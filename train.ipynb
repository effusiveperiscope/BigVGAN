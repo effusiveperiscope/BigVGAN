{
 "cells": [
  {
   "cell_type": "code",
   "execution_count": 3,
   "metadata": {},
   "outputs": [
    {
     "name": "stdout",
     "output_type": "stream",
     "text": [
      "\\root\\BigVGAN\\exp\\bigvgan\n"
     ]
    }
   ],
   "source": [
    "# Download checkpoint to exp/bigvgan\n",
    "GENERATOR_URL = \"\"\n",
    "DISCRIMINATOR_URL = \"\"\n",
    "CONFIG_URL = \"\"\n",
    "DATASET_ZIP = \"\"\n",
    "TRAIN_LIST_URL = \"\"\n",
    "VAL_LIST_URL = \"\"\n",
    "UNSEEN_LIST_URL = \"\"\n",
    "BATCH_SIZE = 2\n",
    "data_zip_path = \"data.zip\"\n",
    "checkpoint_path = \"exp/bigvgan\"\n",
    "config_path = \"configs/config.json\"\n",
    "input_wavs_dir = \"acoustic_rec_data\"\n",
    "bigvgan_root = \"/root/BigVGAN\"\n",
    "\n",
    "def download_file(url, dest):\n",
    "    print(f\"Downloading {url} to {dest}\")\n",
    "    with urllib.request.urlopen(url) as r, open(dest, 'wb') as out_file:\n",
    "        total_size = int(r.info().get('Content-Length', 0))\n",
    "        block_size = 1024\n",
    "        with tqdm(total=total_size, unit='B', unit_scale=True) as pbar:\n",
    "            while True:\n",
    "                data = r.read(block_size)\n",
    "                if not data:\n",
    "                    break\n",
    "                out_file.write(data)\n",
    "                pbar.update(len(data))\n",
    "\n",
    "import os\n",
    "from pathlib import Path\n",
    "import yaml\n",
    "import json\n",
    "bigvgan_root = Path(bigvgan_root)\n",
    "os.makedirs(bigvgan_root/checkpoint_path, exist_ok=True)\n",
    "os.makedirs(bigvgan_root/\"configs\", exist_ok=True)\n",
    "\n",
    "# checkpoint downloads\n",
    "g_path = bigvgan_root / \"g_00000000\"\n",
    "do_path = bigvgan_root / \"do_00000000\"\n",
    "if not os.path.exists(g_path):\n",
    "    download_file(GENERATOR_URL, g_path)\n",
    "if not os.path.exists(do_path):\n",
    "download_file(DISCRIMINATOR_URL, do_path)\n",
    "\n",
    "# dataset downloads\n",
    "if not os.path.exists(data_zip_path):\n",
    "    download_file(DATASET_ZIP, data_zip_path)\n",
    "if not os.path.exists(bigvgan_root / \"train_list.txt\"):\n",
    "    download_file(TRAIN_LIST_URL, bigvgan_root / \"train_list.txt\")\n",
    "if not os.path.exists(bigvgan_root / \"val_list.txt\"):\n",
    "    download_file(VAL_LIST_URL, bigvgan_root / \"val_list.txt\")\n",
    "if not os.path.exists(bigvgan_root / \"unseen_list.txt\"):\n",
    "    download_file(UNSEEN_LIST_URL, bigvgan_root / \"unseen_list.txt\")\n",
    "if not os.path.exists(input_wavs_dir):\n",
    "    with zipfile.ZipFile(dataset_zip_path, 'r') as f:\n",
    "        files_count = len(f.namelist())\n",
    "        with tqdm(\n",
    "            total=files_count, desc=\"Extracting files\", unit=\"file\") as pbar:\n",
    "            for info in f.namelist():\n",
    "                unzip_file_path = Path(DATASET_TARGET_DIR)\n",
    "                if (unzip_file_path/info).exists():\n",
    "                    continue\n",
    "                f.extract(info, unzip_file_path)\n",
    "                pbar.update(1)\n",
    "with open(config_path,'r') as f:\n",
    "    config = json.load(f)\n",
    "    config['batch_size'] = BATCH_SIZE"
   ]
  },
  {
   "cell_type": "code",
   "execution_count": null,
   "metadata": {},
   "outputs": [],
   "source": [
    "!accelerate launch train.py --config configs/{config_path} \\\n",
    "    --input_wavs_dir {bigvgan_root/input_wavs_dir} \\\n",
    "    --input_training_file {bigvgan_root/\"train_list.txt\"} \\\n",
    "    --input_validation_file {bigvgan_root/\"val_list.txt\"} \\ \n",
    "    --list_input_unseen_wavs_dir {bigvgan_root/\"unseen\"} \\ \n",
    "    --list_input_unseen_validation_file {bigvgan_root/\"unseen_list.txt\"} \\\n",
    "    --validation_interval 8000 \\\n",
    "    --eval_subsample 100"
   ]
  }
 ],
 "metadata": {
  "kernelspec": {
   "display_name": "Python 3",
   "language": "python",
   "name": "python3"
  },
  "language_info": {
   "codemirror_mode": {
    "name": "ipython",
    "version": 3
   },
   "file_extension": ".py",
   "mimetype": "text/x-python",
   "name": "python",
   "nbconvert_exporter": "python",
   "pygments_lexer": "ipython3",
   "version": "3.10.7"
  }
 },
 "nbformat": 4,
 "nbformat_minor": 2
}
